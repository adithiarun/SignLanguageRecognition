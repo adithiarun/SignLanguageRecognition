{
  "cells": [
    {
      "cell_type": "code",
      "execution_count": null,
      "id": "f470b99d-c78c-487c-a0dc-2c35d47c3c04",
      "metadata": {
        "id": "f470b99d-c78c-487c-a0dc-2c35d47c3c04"
      },
      "outputs": [],
      "source": [
        "import os\n",
        "import torch\n",
        "import torchvision\n",
        "import tarfile\n",
        "import torch.nn as nn\n",
        "import numpy as np\n",
        "import torch.nn.functional as F\n",
        "from torchvision.datasets.utils import download_url\n",
        "from torchvision.datasets import ImageFolder\n",
        "from torch.utils.data import DataLoader\n",
        "import torchvision.transforms as tt\n",
        "from torch.utils.data import random_split\n",
        "from torchvision.utils import make_grid\n",
        "from torchvision import transforms\n",
        "from torchvision.transforms import ToTensor\n",
        "import matplotlib.pyplot as plt"
      ]
    },
    {
      "cell_type": "code",
      "source": [
        "from google.colab import drive"
      ],
      "metadata": {
        "id": "H51arqBMe7D7"
      },
      "id": "H51arqBMe7D7",
      "execution_count": null,
      "outputs": []
    },
    {
      "cell_type": "code",
      "source": [
        "drive.mount('/content/drive')"
      ],
      "metadata": {
        "colab": {
          "base_uri": "https://localhost:8080/"
        },
        "id": "lmfP5QOBe-cC",
        "outputId": "f1f7391e-5874-48bd-d1f3-39c7c0eb5c57"
      },
      "id": "lmfP5QOBe-cC",
      "execution_count": null,
      "outputs": [
        {
          "output_type": "stream",
          "name": "stdout",
          "text": [
            "Mounted at /content/drive\n"
          ]
        }
      ]
    },
    {
      "cell_type": "code",
      "execution_count": null,
      "id": "4ad31036-421a-43be-915a-a631261523b5",
      "metadata": {
        "colab": {
          "base_uri": "https://localhost:8080/"
        },
        "id": "4ad31036-421a-43be-915a-a631261523b5",
        "outputId": "34325708-4501-4da6-9d37-bd28cdebc409"
      },
      "outputs": [
        {
          "output_type": "stream",
          "name": "stdout",
          "text": [
            "['LICENSE', 'README.md', 'Dataset', 'Examples']\n",
            "['9', '8', '4', '6', '0', '7', '2', '5', '1', '3']\n"
          ]
        }
      ],
      "source": [
        "data_dir = 'drive/My Drive/Sign-Language-Digits-Dataset-master'\n",
        "print(os.listdir(data_dir))\n",
        "classes = os.listdir(data_dir + \"/Dataset\")\n",
        "print(classes)"
      ]
    },
    {
      "cell_type": "code",
      "execution_count": null,
      "id": "2b55fa2c-74f8-4ad8-9cfa-5b159a53e4bf",
      "metadata": {
        "id": "2b55fa2c-74f8-4ad8-9cfa-5b159a53e4bf"
      },
      "outputs": [],
      "source": [
        "dataset = ImageFolder(data_dir+'/Dataset', transform=torchvision.transforms.Compose(\n",
        "        [torchvision.transforms.Resize(64), torchvision.transforms.ToTensor()]))"
      ]
    },
    {
      "cell_type": "code",
      "execution_count": null,
      "id": "04cb8732-dca2-4801-adae-8fbeedd53239",
      "metadata": {
        "colab": {
          "base_uri": "https://localhost:8080/"
        },
        "id": "04cb8732-dca2-4801-adae-8fbeedd53239",
        "outputId": "1dd40618-7ab6-4e13-9b90-4625cebd8b45"
      },
      "outputs": [
        {
          "output_type": "execute_result",
          "data": {
            "text/plain": [
              "(1959, 103)"
            ]
          },
          "metadata": {},
          "execution_count": 6
        }
      ],
      "source": [
        "val_size = int(0.05*len(dataset))\n",
        "train_size = len(dataset) - val_size\n",
        "\n",
        "train_ds, val_ds = random_split(dataset, [train_size, val_size])\n",
        "len(train_ds), len(val_ds)"
      ]
    },
    {
      "cell_type": "code",
      "execution_count": null,
      "id": "f340cdae-4184-473e-a530-91409b297fc2",
      "metadata": {
        "colab": {
          "base_uri": "https://localhost:8080/"
        },
        "id": "f340cdae-4184-473e-a530-91409b297fc2",
        "outputId": "736111dd-0206-473a-d770-0ea4e35aa942"
      },
      "outputs": [
        {
          "output_type": "stream",
          "name": "stdout",
          "text": [
            "1959\n"
          ]
        },
        {
          "output_type": "execute_result",
          "data": {
            "text/plain": [
              "(1909, 50)"
            ]
          },
          "metadata": {},
          "execution_count": 7
        }
      ],
      "source": [
        "print(train_size)\n",
        "test_size=50\n",
        "train_size = len(train_ds) - test_size\n",
        "\n",
        "train_ds, test_ds = random_split(train_ds, [train_size, test_size])\n",
        "len(train_ds), len(test_ds)"
      ]
    },
    {
      "cell_type": "code",
      "execution_count": null,
      "id": "de53853d-a20e-4e9d-9bb7-b782ad979137",
      "metadata": {
        "id": "de53853d-a20e-4e9d-9bb7-b782ad979137"
      },
      "outputs": [],
      "source": [
        "from torch.utils.data.dataloader import DataLoader\n",
        "\n",
        "batch_size=128"
      ]
    },
    {
      "cell_type": "code",
      "execution_count": null,
      "id": "be1700ff-12cf-426d-9973-f985b211d2dc",
      "metadata": {
        "id": "be1700ff-12cf-426d-9973-f985b211d2dc",
        "colab": {
          "base_uri": "https://localhost:8080/"
        },
        "outputId": "6a494fd1-836a-4e3e-df43-5779e4e76ec0"
      },
      "outputs": [
        {
          "output_type": "stream",
          "name": "stderr",
          "text": [
            "/usr/local/lib/python3.8/dist-packages/torch/utils/data/dataloader.py:563: UserWarning: This DataLoader will create 4 worker processes in total. Our suggested max number of worker in current system is 2, which is smaller than what this DataLoader is going to create. Please be aware that excessive worker creation might get DataLoader running slow or even freeze, lower the worker number to avoid potential slowness/freeze if necessary.\n",
            "  warnings.warn(_create_warning_msg(\n"
          ]
        }
      ],
      "source": [
        "train_dl = DataLoader(train_ds, batch_size, shuffle=True, num_workers=4, pin_memory=True)\n",
        "val_dl = DataLoader(val_ds, batch_size*2, num_workers=4, pin_memory=True)"
      ]
    },
    {
      "cell_type": "code",
      "execution_count": null,
      "id": "be801a48-7a0b-41d6-9925-3b649394cb7b",
      "metadata": {
        "id": "be801a48-7a0b-41d6-9925-3b649394cb7b"
      },
      "outputs": [],
      "source": [
        "def accuracy(outputs, labels):\n",
        "    _, preds = torch.max(outputs, dim=1)\n",
        "    return torch.tensor(torch.sum(preds == labels).item() / len(preds))\n",
        "\n",
        "class ImageClassificationBase(nn.Module):\n",
        "    def training_step(self, batch):\n",
        "        images, labels = batch\n",
        "        out = self(images)                  # Generate predictions\n",
        "        loss = F.cross_entropy(out, labels) # Calculate loss\n",
        "        return loss\n",
        "\n",
        "    def validation_step(self, batch):\n",
        "        images, labels = batch\n",
        "        out = self(images)                    # Generate predictions\n",
        "        loss = F.cross_entropy(out, labels)   # Calculate loss\n",
        "        acc = accuracy(out, labels)           # Calculate accuracy\n",
        "        return {'val_loss': loss.detach(), 'val_acc': acc}\n",
        "\n",
        "    def validation_epoch_end(self, outputs):\n",
        "        batch_losses = [x['val_loss'] for x in outputs]\n",
        "        epoch_loss = torch.stack(batch_losses).mean()   # Combine losses\n",
        "        batch_accs = [x['val_acc'] for x in outputs]\n",
        "        epoch_acc = torch.stack(batch_accs).mean()      # Combine accuracies\n",
        "        return {'val_loss': epoch_loss.item(), 'val_acc': epoch_acc.item()}\n",
        "\n",
        "    def epoch_end(self, epoch, result):\n",
        "        print(\"Epoch [{}], train_loss: {:.4f}, val_loss: {:.4f}, val_acc: {:.4f}\".format(\n",
        "            epoch, result['train_loss'], result['val_loss'], result['val_acc']))"
      ]
    },
    {
      "cell_type": "code",
      "execution_count": null,
      "id": "c4b4ae2f-3c53-4cd3-bc34-7b8c3db05e8c",
      "metadata": {
        "id": "c4b4ae2f-3c53-4cd3-bc34-7b8c3db05e8c"
      },
      "outputs": [],
      "source": [
        "class SignLangCnnModel(ImageClassificationBase):\n",
        "    def __init__(self):\n",
        "        super().__init__()\n",
        "#         self.conv1 = nn.Conv2d(3, 32, kernel_size=3, padding=1)\n",
        "#         self.relu1 = nn.ReLU()\n",
        "#         self.conv2 = nn.Conv2d(32, 64, kernel_size=3, stride=1, padding=1)\n",
        "#         self.relu2 = nn.ReLU()\n",
        "#         self.max1 = nn.MaxPool2d(2, 2) # output: 64 x 32X32\n",
        "\n",
        "#         self.conv3 = nn.Conv2d(64, 128, kernel_size=3, stride=1, padding=1)\n",
        "#         self.relu3 = nn.ReLU()\n",
        "#         self.conv4 = nn.Conv2d(128, 128, kernel_size=3, stride=1, padding=1)\n",
        "#         self.relu4 = nn.ReLU()\n",
        "#         self.max2 = nn.MaxPool2d(2, 2) # output: 128 x 16 x 16\n",
        "\n",
        "#         # self.conv5 = nn.Conv2d(256, 256, kernel_size=3, stride=1, padding=1)\n",
        "#         # self.relu5 = nn.ReLU()\n",
        "#         # self.conv6 = nn.Conv2d(256, 256, kernel_size=3, stride=1, padding=1)\n",
        "#         # self.relu6 = nn.ReLU()\n",
        "#         # self.max3 = nn.MaxPool2d(2, 2)\n",
        "#         # nn.Conv2d(128, 256, kernel_size=3, stride=1, padding=1),\n",
        "#         # nn.ReLU(),\n",
        "#         # nn.Conv2d(256, 512, kernel_size=3, stride=1, padding=1),\n",
        "#         # nn.ReLU(),\n",
        "#         # nn.MaxPool2d(2, 2), # output: 256 x 8 x 8\n",
        "\n",
        "#         self.flat = nn.Flatten()\n",
        "#         self.lin1 = nn.Linear(4096, 2048)\n",
        "#         self.relu7 = nn.ReLU()\n",
        "#         self.lin2 = nn.Linear(2048, 1024)\n",
        "#         self.relu8 = nn.ReLU()\n",
        "#         # self.lin3 = nn.Linear(4096, 2048)\n",
        "#         # self.relu9 = nn.ReLU()\n",
        "#         self.lin4 = nn.Linear(1024, 10)\n",
        "\n",
        "\n",
        "        self.conv1 = nn.Conv2d(3, 32, kernel_size=3, padding=1)\n",
        "        self.relu1 = nn.ReLU()\n",
        "        self.conv2 = nn.Conv2d(32, 64, kernel_size=3, stride=1, padding=1)\n",
        "        self.relu2 = nn.ReLU()\n",
        "        self.max1 = nn.MaxPool2d(4, 4) # output: 64 x 32X32\n",
        "\n",
        "        # self.conv3 = nn.Conv2d(64, 128, kernel_size=3, stride=1, padding=1)\n",
        "        # self. relu3 = nn.ReLU()\n",
        "        # self.conv4 = nn.Conv2d(128, 128, kernel_size=3, stride=1, padding=1)\n",
        "        # self.relu4 = nn.ReLU()\n",
        "        # self.max2 = nn.MaxPool2d(4, 4) # output: 128 x 16 x 16\n",
        "\n",
        "        # self.conv5 = nn.Conv2d(128, 256, kernel_size=3, stride=1, padding=1)\n",
        "        # self.relu5 = nn.ReLU()\n",
        "        # self.conv6 = nn.Conv2d(256, 256, kernel_size=3, stride=1, padding=1)\n",
        "        # self.relu6 = nn.ReLU()\n",
        "        # self.max3 = nn.MaxPool2d(2, 2) # output: 256 x 8 x 8\n",
        "\n",
        "        self.flat = nn.Flatten()\n",
        "        self.lin1 = nn.Linear(16384, 512)\n",
        "        self.relu7 = nn.ReLU()\n",
        "        self.lin2 = nn.Linear(512, 10)\n",
        "        # self.relu8 = nn.ReLU()\n",
        "        # self.lin3 = nn.Linear(1024, 10)\n",
        "\n",
        "    def forward(self, xb):\n",
        "        outs = None\n",
        "        outs = self.conv1(xb)\n",
        "        outs = self.relu1(outs)\n",
        "        outs = self.conv2(outs)\n",
        "        outs = self.relu2(outs)\n",
        "        outs = self.max1(outs)\n",
        "\n",
        "        # outs = self.conv3(outs)\n",
        "        # outs = self.relu3(outs)\n",
        "        # outs = self.conv4(outs)\n",
        "        # outs = self.relu4(outs)\n",
        "        # outs = self.max2(outs)\n",
        "\n",
        "        # outs = self.conv5(outs)\n",
        "        # outs = self.relu5(outs)\n",
        "        # outs = self.conv6(outs)\n",
        "        # outs = self.relu6(outs)\n",
        "        # outs = self.max3(outs)\n",
        "\n",
        "#         outs = self.flat(outs)\n",
        "#         # print(outs.shape)\n",
        "#         outs = self.lin1(outs)\n",
        "#         outs = self.relu7(outs)\n",
        "#         outs = self.lin2(outs)\n",
        "#         outs = self.relu8(outs)\n",
        "#         # outs = self.lin3(outs)\n",
        "#         # outs = self.relu9(outs)\n",
        "#         outs = self.lin4(outs)\n",
        "\n",
        "\n",
        "\n",
        "#         outs = self.conv6(outs)\n",
        "#         outs = self.relu6(outs)\n",
        "#         outs = self.conv7(outs)\n",
        "#         outs = self.relu7(outs)\n",
        "#         outs = self.max3(outs)\n",
        "\n",
        "        outs = self.flat(outs)\n",
        "        # print(outs.shape)\n",
        "        outs = self.lin1(outs)\n",
        "        outs = self.relu7(outs)\n",
        "        outs = self.lin2(outs)\n",
        "        # outs = self.relu8(outs)\n",
        "        # outs = self.lin3(outs)\n",
        "        # outs = self.network(xb)\n",
        "        return outs"
      ]
    },
    {
      "cell_type": "code",
      "execution_count": null,
      "id": "84accc53-b0f2-4e3e-9b16-56eb3517d4a0",
      "metadata": {
        "colab": {
          "base_uri": "https://localhost:8080/"
        },
        "id": "84accc53-b0f2-4e3e-9b16-56eb3517d4a0",
        "outputId": "52daccb0-cc2f-49c1-ea1f-a364e0eb8457"
      },
      "outputs": [
        {
          "output_type": "execute_result",
          "data": {
            "text/plain": [
              "SignLangCnnModel(\n",
              "  (conv1): Conv2d(3, 32, kernel_size=(3, 3), stride=(1, 1), padding=(1, 1))\n",
              "  (relu1): ReLU()\n",
              "  (conv2): Conv2d(32, 64, kernel_size=(3, 3), stride=(1, 1), padding=(1, 1))\n",
              "  (relu2): ReLU()\n",
              "  (max1): MaxPool2d(kernel_size=4, stride=4, padding=0, dilation=1, ceil_mode=False)\n",
              "  (flat): Flatten(start_dim=1, end_dim=-1)\n",
              "  (lin1): Linear(in_features=16384, out_features=512, bias=True)\n",
              "  (relu7): ReLU()\n",
              "  (lin2): Linear(in_features=512, out_features=10, bias=True)\n",
              ")"
            ]
          },
          "metadata": {},
          "execution_count": 12
        }
      ],
      "source": [
        "model = SignLangCnnModel()\n",
        "model"
      ]
    },
    {
      "cell_type": "code",
      "execution_count": null,
      "id": "cf94563b-441e-4de5-9b40-d32f6464a433",
      "metadata": {
        "id": "cf94563b-441e-4de5-9b40-d32f6464a433"
      },
      "outputs": [],
      "source": [
        "def get_default_device():\n",
        "    \"\"\"Pick GPU if available, else CPU\"\"\"\n",
        "    if torch.cuda.is_available():\n",
        "        return torch.device('cuda')\n",
        "    else:\n",
        "        return torch.device('cpu')\n",
        "\n",
        "def to_device(data, device):\n",
        "    \"\"\"Move tensor(s) to chosen device\"\"\"\n",
        "    if isinstance(data, (list,tuple)):\n",
        "        return [to_device(x, device) for x in data]\n",
        "    return data.to(device, non_blocking=True)\n",
        "\n",
        "class DeviceDataLoader():\n",
        "    \"\"\"Wrap a dataloader to move data to a device\"\"\"\n",
        "    def __init__(self, dl, device):\n",
        "        self.dl = dl\n",
        "        self.device = device\n",
        "\n",
        "    def __iter__(self):\n",
        "        \"\"\"Yield a batch of data after moving it to device\"\"\"\n",
        "        for b in self.dl:\n",
        "            yield to_device(b, self.device)\n",
        "\n",
        "    def __len__(self):\n",
        "        \"\"\"Number of batches\"\"\"\n",
        "        return len(self.dl)"
      ]
    },
    {
      "cell_type": "code",
      "execution_count": null,
      "id": "183591de-b867-40a5-972b-97e180609fc5",
      "metadata": {
        "colab": {
          "base_uri": "https://localhost:8080/"
        },
        "id": "183591de-b867-40a5-972b-97e180609fc5",
        "outputId": "befb2bf0-21ee-4cc5-c84e-b59f4303c9e4"
      },
      "outputs": [
        {
          "output_type": "execute_result",
          "data": {
            "text/plain": [
              "device(type='cpu')"
            ]
          },
          "metadata": {},
          "execution_count": 14
        }
      ],
      "source": [
        "device = get_default_device()\n",
        "device"
      ]
    },
    {
      "cell_type": "code",
      "execution_count": null,
      "id": "475bf1d3-a33f-4cac-81ea-a052c75e3692",
      "metadata": {
        "id": "475bf1d3-a33f-4cac-81ea-a052c75e3692"
      },
      "outputs": [],
      "source": [
        "train_dl = DeviceDataLoader(train_dl, device)\n",
        "val_dl = DeviceDataLoader(val_dl, device)\n",
        "to_device(model, device);"
      ]
    },
    {
      "cell_type": "code",
      "execution_count": null,
      "id": "59740da3-77cc-4e20-97fa-9e267c5b384a",
      "metadata": {
        "id": "59740da3-77cc-4e20-97fa-9e267c5b384a"
      },
      "outputs": [],
      "source": [
        "def evaluate(model, val_loader):\n",
        "    model.eval()\n",
        "    outputs = [model.validation_step(batch) for batch in val_loader]\n",
        "    return model.validation_epoch_end(outputs)\n",
        "\n",
        "def fit(epochs, lr, model, train_loader, val_loader, opt_func=torch.optim.SGD):\n",
        "    history = []\n",
        "    optimizer = opt_func(model.parameters(), lr)\n",
        "    for epoch in range(epochs):\n",
        "        # Training Phase\n",
        "        model.train()\n",
        "        train_losses = []\n",
        "        for batch in train_loader:\n",
        "            loss = model.training_step(batch)\n",
        "            train_losses.append(loss)\n",
        "            loss.backward()\n",
        "            optimizer.step()\n",
        "            optimizer.zero_grad()\n",
        "        # Validation phase\n",
        "        result = evaluate(model, val_loader)\n",
        "        result['train_loss'] = torch.stack(train_losses).mean().item()\n",
        "        model.epoch_end(epoch, result)\n",
        "        history.append(result)\n",
        "    return history"
      ]
    },
    {
      "cell_type": "code",
      "execution_count": null,
      "id": "cae0f100-3555-43a5-becd-c6a1a447b322",
      "metadata": {
        "id": "cae0f100-3555-43a5-becd-c6a1a447b322"
      },
      "outputs": [],
      "source": [
        "num_epochs = 15\n",
        "opt_func = torch.optim.Adam\n",
        "lr = 0.0005"
      ]
    },
    {
      "cell_type": "code",
      "execution_count": null,
      "id": "89876413-bfa1-4aa4-ba63-52887293f517",
      "metadata": {
        "colab": {
          "base_uri": "https://localhost:8080/"
        },
        "id": "89876413-bfa1-4aa4-ba63-52887293f517",
        "outputId": "f1792939-2efc-4c15-e37b-5dbb910f1e35"
      },
      "outputs": [
        {
          "output_type": "execute_result",
          "data": {
            "text/plain": [
              "{'val_loss': 2.302690267562866, 'val_acc': 0.11650485545396805}"
            ]
          },
          "metadata": {},
          "execution_count": 18
        }
      ],
      "source": [
        "evaluate(model, val_dl)"
      ]
    },
    {
      "cell_type": "code",
      "execution_count": null,
      "id": "fbf5bd04-f618-41d6-9ff3-d3abd9a959e4",
      "metadata": {
        "id": "fbf5bd04-f618-41d6-9ff3-d3abd9a959e4",
        "colab": {
          "base_uri": "https://localhost:8080/"
        },
        "outputId": "209b14e0-0117-4f79-fa5e-7390a8c7b663"
      },
      "outputs": [
        {
          "output_type": "stream",
          "name": "stdout",
          "text": [
            "Epoch [0], train_loss: 2.3001, val_loss: 2.2206, val_acc: 0.2718\n",
            "Epoch [1], train_loss: 2.0595, val_loss: 1.8603, val_acc: 0.4272\n",
            "Epoch [2], train_loss: 1.4501, val_loss: 1.2320, val_acc: 0.6311\n",
            "Epoch [3], train_loss: 0.8978, val_loss: 0.8679, val_acc: 0.7184\n",
            "Epoch [4], train_loss: 0.6344, val_loss: 0.7756, val_acc: 0.7573\n",
            "Epoch [5], train_loss: 0.5061, val_loss: 0.7045, val_acc: 0.7573\n",
            "Epoch [6], train_loss: 0.4297, val_loss: 0.6144, val_acc: 0.7670\n",
            "Epoch [7], train_loss: 0.3582, val_loss: 0.5329, val_acc: 0.8058\n",
            "Epoch [8], train_loss: 0.2981, val_loss: 0.4648, val_acc: 0.8252\n",
            "Epoch [9], train_loss: 0.2701, val_loss: 0.4092, val_acc: 0.8350\n",
            "Epoch [10], train_loss: 0.2313, val_loss: 0.4241, val_acc: 0.8350\n",
            "Epoch [11], train_loss: 0.1878, val_loss: 0.3907, val_acc: 0.8544\n",
            "Epoch [12], train_loss: 0.1583, val_loss: 0.4264, val_acc: 0.8350\n",
            "Epoch [13], train_loss: 0.1462, val_loss: 0.3316, val_acc: 0.8738\n",
            "Epoch [14], train_loss: 0.1177, val_loss: 0.3730, val_acc: 0.8447\n"
          ]
        }
      ],
      "source": [
        "history = fit(num_epochs, lr, model, train_dl, val_dl, opt_func)"
      ]
    },
    {
      "cell_type": "code",
      "execution_count": null,
      "id": "c3f74fda-10f3-4576-ba95-5cdda061b246",
      "metadata": {
        "id": "c3f74fda-10f3-4576-ba95-5cdda061b246",
        "outputId": "d24de3c6-20bf-4cb7-d218-6ec2813ff09e",
        "colab": {
          "base_uri": "https://localhost:8080/"
        }
      },
      "outputs": [
        {
          "output_type": "execute_result",
          "data": {
            "text/plain": [
              "{'val_loss': 0.3640905022621155, 'val_acc': 0.8799999952316284}"
            ]
          },
          "metadata": {},
          "execution_count": 20
        }
      ],
      "source": [
        "test_loader = DeviceDataLoader(DataLoader(test_ds, batch_size*2), device)\n",
        "result = evaluate(model, test_loader)\n",
        "result"
      ]
    },
    {
      "cell_type": "code",
      "execution_count": null,
      "id": "7e1bbe28-af7b-490d-a8ee-4ec26d1395f7",
      "metadata": {
        "id": "7e1bbe28-af7b-490d-a8ee-4ec26d1395f7"
      },
      "outputs": [],
      "source": [
        "x = np.arange(0, 15, 1).tolist()\n",
        "train_loss = [2.3001, 2.0595, 1.4501, 0.8978, 0.6344, 0.5061, 0.4297, 0.3582, 0.2981, 0.2701, 0.2313, 0.1878, 0.1583, 0.1462, 0.1177]\n",
        "val_loss = [2.2206, 1.8603, 1.2320, 0.8679, 0.7756, 0.7045, 0.6144, 0.5329, 0.4648, 0.4092, 0.4241, 0.3907, 0.4264, 0.3316, 0.3730]"
      ]
    },
    {
      "cell_type": "code",
      "source": [
        "from google.colab import files"
      ],
      "metadata": {
        "id": "JjAfl2ul3YQr"
      },
      "id": "JjAfl2ul3YQr",
      "execution_count": null,
      "outputs": []
    },
    {
      "cell_type": "code",
      "execution_count": null,
      "id": "75b757c6-f445-46a5-b4a4-39bdc38e8062",
      "metadata": {
        "id": "75b757c6-f445-46a5-b4a4-39bdc38e8062",
        "colab": {
          "base_uri": "https://localhost:8080/",
          "height": 295
        },
        "outputId": "59cffcaf-38dd-47c8-d985-b5c6ac41292b"
      },
      "outputs": [
        {
          "output_type": "display_data",
          "data": {
            "text/plain": [
              "<IPython.core.display.Javascript object>"
            ],
            "application/javascript": [
              "\n",
              "    async function download(id, filename, size) {\n",
              "      if (!google.colab.kernel.accessAllowed) {\n",
              "        return;\n",
              "      }\n",
              "      const div = document.createElement('div');\n",
              "      const label = document.createElement('label');\n",
              "      label.textContent = `Downloading \"${filename}\": `;\n",
              "      div.appendChild(label);\n",
              "      const progress = document.createElement('progress');\n",
              "      progress.max = size;\n",
              "      div.appendChild(progress);\n",
              "      document.body.appendChild(div);\n",
              "\n",
              "      const buffers = [];\n",
              "      let downloaded = 0;\n",
              "\n",
              "      const channel = await google.colab.kernel.comms.open(id);\n",
              "      // Send a message to notify the kernel that we're ready.\n",
              "      channel.send({})\n",
              "\n",
              "      for await (const message of channel.messages) {\n",
              "        // Send a message to notify the kernel that we're ready.\n",
              "        channel.send({})\n",
              "        if (message.buffers) {\n",
              "          for (const buffer of message.buffers) {\n",
              "            buffers.push(buffer);\n",
              "            downloaded += buffer.byteLength;\n",
              "            progress.value = downloaded;\n",
              "          }\n",
              "        }\n",
              "      }\n",
              "      const blob = new Blob(buffers, {type: 'application/binary'});\n",
              "      const a = document.createElement('a');\n",
              "      a.href = window.URL.createObjectURL(blob);\n",
              "      a.download = filename;\n",
              "      div.appendChild(a);\n",
              "      a.click();\n",
              "      div.remove();\n",
              "    }\n",
              "  "
            ]
          },
          "metadata": {}
        },
        {
          "output_type": "display_data",
          "data": {
            "text/plain": [
              "<IPython.core.display.Javascript object>"
            ],
            "application/javascript": [
              "download(\"download_2425e245-c8fa-42fe-8428-cc8313aceb80\", \"lossCurveDigits.svg\", 28909)"
            ]
          },
          "metadata": {}
        },
        {
          "output_type": "display_data",
          "data": {
            "text/plain": [
              "<Figure size 432x288 with 1 Axes>"
            ],
            "image/png": "[encoded data removed]"
          },
          "metadata": {
            "needs_background": "light"
          }
        }
      ],
      "source": [
        "fig = plt.figure()\n",
        "plt.plot(x, train_loss, label = 'Training Loss')\n",
        "plt.plot(x, val_loss, label = 'Validation Loss')\n",
        "plt.xlabel('Epochs')\n",
        "plt.ylabel('Loss')\n",
        "plt.title(\"Loss Curve\")\n",
        "plt.legend()\n",
        "plt.savefig('lossCurveDigits.svg')\n",
        "files.download('lossCurveDigits.svg')\n",
        "plt.show()"
      ]
    },
    {
      "cell_type": "code",
      "source": [
        "torch.save(model, 'drive/My Drive/Sign-Language-Digits-Dataset-master/model.pt')\n",
        "# torch.save(checkpoint, 'checkpoint.pth')"
      ],
      "metadata": {
        "id": "XUsHCX4bmjN1"
      },
      "id": "XUsHCX4bmjN1",
      "execution_count": null,
      "outputs": []
    },
    {
      "cell_type": "code",
      "source": [
        "model = torch.load('drive/My Drive/Sign-Language-Digits-Dataset-master/model.pt')"
      ],
      "metadata": {
        "id": "YDwhbOgPKx3Z"
      },
      "id": "YDwhbOgPKx3Z",
      "execution_count": null,
      "outputs": []
    },
    {
      "cell_type": "code",
      "source": [
        "model"
      ],
      "metadata": {
        "colab": {
          "base_uri": "https://localhost:8080/"
        },
        "id": "PeJ_N5gKMC88",
        "outputId": "ba58379a-b4da-4f63-9067-c6125da2b153"
      },
      "id": "PeJ_N5gKMC88",
      "execution_count": null,
      "outputs": [
        {
          "output_type": "execute_result",
          "data": {
            "text/plain": [
              "SignLangCnnModel(\n",
              "  (conv1): Conv2d(3, 32, kernel_size=(3, 3), stride=(1, 1), padding=(1, 1))\n",
              "  (relu1): ReLU()\n",
              "  (conv2): Conv2d(32, 64, kernel_size=(3, 3), stride=(1, 1), padding=(1, 1))\n",
              "  (relu2): ReLU()\n",
              "  (max1): MaxPool2d(kernel_size=4, stride=4, padding=0, dilation=1, ceil_mode=False)\n",
              "  (flat): Flatten(start_dim=1, end_dim=-1)\n",
              "  (lin1): Linear(in_features=16384, out_features=512, bias=True)\n",
              "  (relu7): ReLU()\n",
              "  (lin2): Linear(in_features=512, out_features=10, bias=True)\n",
              ")"
            ]
          },
          "metadata": {},
          "execution_count": 31
        }
      ]
    },
    {
      "cell_type": "code",
      "source": [
        "val_acc = [0.2718, 0.4272, 0.6311, 0.7184, 0.7573, 0.7573, 0.7670, 0.8058, 0.8252, 0.8350, 0.8350, 0.8544, 0.8350, 0.8738, 0.8447]"
      ],
      "metadata": {
        "id": "bnRMQ-9BRwEw"
      },
      "id": "bnRMQ-9BRwEw",
      "execution_count": null,
      "outputs": []
    },
    {
      "cell_type": "code",
      "source": [
        "fig = plt.figure()\n",
        "plt.plot(x, val_acc, label = 'Validation Accuracy')\n",
        "# plt.plot(x, val_loss, label = 'Validation Loss')\n",
        "plt.xlabel('Epochs')\n",
        "plt.ylabel('Accuracy')\n",
        "plt.title(\"Learning Curve\")\n",
        "plt.legend()\n",
        "plt.savefig('learningCurveDigits.svg')\n",
        "files.download('learningCurveDigits.svg')\n",
        "plt.show()"
      ],
      "metadata": {
        "colab": {
          "base_uri": "https://localhost:8080/",
          "height": 295
        },
        "id": "9DG6p__asQvK",
        "outputId": "6e0463a6-d7af-427e-ce75-0e35ddb65df8"
      },
      "id": "9DG6p__asQvK",
      "execution_count": null,
      "outputs": [
        {
          "output_type": "display_data",
          "data": {
            "text/plain": [
              "<IPython.core.display.Javascript object>"
            ],
            "application/javascript": [
              "\n",
              "    async function download(id, filename, size) {\n",
              "      if (!google.colab.kernel.accessAllowed) {\n",
              "        return;\n",
              "      }\n",
              "      const div = document.createElement('div');\n",
              "      const label = document.createElement('label');\n",
              "      label.textContent = `Downloading \"${filename}\": `;\n",
              "      div.appendChild(label);\n",
              "      const progress = document.createElement('progress');\n",
              "      progress.max = size;\n",
              "      div.appendChild(progress);\n",
              "      document.body.appendChild(div);\n",
              "\n",
              "      const buffers = [];\n",
              "      let downloaded = 0;\n",
              "\n",
              "      const channel = await google.colab.kernel.comms.open(id);\n",
              "      // Send a message to notify the kernel that we're ready.\n",
              "      channel.send({})\n",
              "\n",
              "      for await (const message of channel.messages) {\n",
              "        // Send a message to notify the kernel that we're ready.\n",
              "        channel.send({})\n",
              "        if (message.buffers) {\n",
              "          for (const buffer of message.buffers) {\n",
              "            buffers.push(buffer);\n",
              "            downloaded += buffer.byteLength;\n",
              "            progress.value = downloaded;\n",
              "          }\n",
              "        }\n",
              "      }\n",
              "      const blob = new Blob(buffers, {type: 'application/binary'});\n",
              "      const a = document.createElement('a');\n",
              "      a.href = window.URL.createObjectURL(blob);\n",
              "      a.download = filename;\n",
              "      div.appendChild(a);\n",
              "      a.click();\n",
              "      div.remove();\n",
              "    }\n",
              "  "
            ]
          },
          "metadata": {}
        },
        {
          "output_type": "display_data",
          "data": {
            "text/plain": [
              "<IPython.core.display.Javascript object>"
            ],
            "application/javascript": [
              "download(\"download_44fd4dbe-dfe0-470e-9a7f-9d19a6a437c7\", \"learningCurveDigits.svg\", 32265)"
            ]
          },
          "metadata": {}
        },
        {
          "output_type": "display_data",
          "data": {
            "text/plain": [
              "<Figure size 432x288 with 1 Axes>"
            ],
            "image/png": "[encoded data removed]"
          },
          "metadata": {
            "needs_background": "light"
          }
        }
      ]
    },
    {
      "cell_type": "code",
      "source": [
        "val_acc_asl = [ 0.1867, 0.3156, 0.4131, 0.5409, 0.5749, 0.6416, 0.6858, 0.7393, 0.7515, 0.7651, 0.7933, 0.7966, 0.8117, 0.8237, 0.8230]"
      ],
      "metadata": {
        "id": "9vaoIctWsbX9"
      },
      "id": "9vaoIctWsbX9",
      "execution_count": null,
      "outputs": []
    },
    {
      "cell_type": "code",
      "source": [
        "fig = plt.figure()\n",
        "plt.plot(np.arange(0, 15, 1).tolist(), val_acc_asl, label = 'Validation Accuracy')\n",
        "# plt.plot(x, val_loss, label = 'Validation Loss')\n",
        "plt.xlabel('Epochs')\n",
        "plt.ylabel('Accuracy')\n",
        "plt.title(\"Learning Curve\")\n",
        "plt.legend()\n",
        "plt.savefig('learningCurveASL.svg')\n",
        "files.download('learningCurveASL.svg')\n",
        "plt.show()"
      ],
      "metadata": {
        "colab": {
          "base_uri": "https://localhost:8080/",
          "height": 295
        },
        "id": "XDdfhnnctXkO",
        "outputId": "300b4ee2-0ee5-4d8a-c54c-4b33c55212d4"
      },
      "id": "XDdfhnnctXkO",
      "execution_count": null,
      "outputs": [
        {
          "output_type": "display_data",
          "data": {
            "text/plain": [
              "<IPython.core.display.Javascript object>"
            ],
            "application/javascript": [
              "\n",
              "    async function download(id, filename, size) {\n",
              "      if (!google.colab.kernel.accessAllowed) {\n",
              "        return;\n",
              "      }\n",
              "      const div = document.createElement('div');\n",
              "      const label = document.createElement('label');\n",
              "      label.textContent = `Downloading \"${filename}\": `;\n",
              "      div.appendChild(label);\n",
              "      const progress = document.createElement('progress');\n",
              "      progress.max = size;\n",
              "      div.appendChild(progress);\n",
              "      document.body.appendChild(div);\n",
              "\n",
              "      const buffers = [];\n",
              "      let downloaded = 0;\n",
              "\n",
              "      const channel = await google.colab.kernel.comms.open(id);\n",
              "      // Send a message to notify the kernel that we're ready.\n",
              "      channel.send({})\n",
              "\n",
              "      for await (const message of channel.messages) {\n",
              "        // Send a message to notify the kernel that we're ready.\n",
              "        channel.send({})\n",
              "        if (message.buffers) {\n",
              "          for (const buffer of message.buffers) {\n",
              "            buffers.push(buffer);\n",
              "            downloaded += buffer.byteLength;\n",
              "            progress.value = downloaded;\n",
              "          }\n",
              "        }\n",
              "      }\n",
              "      const blob = new Blob(buffers, {type: 'application/binary'});\n",
              "      const a = document.createElement('a');\n",
              "      a.href = window.URL.createObjectURL(blob);\n",
              "      a.download = filename;\n",
              "      div.appendChild(a);\n",
              "      a.click();\n",
              "      div.remove();\n",
              "    }\n",
              "  "
            ]
          },
          "metadata": {}
        },
        {
          "output_type": "display_data",
          "data": {
            "text/plain": [
              "<IPython.core.display.Javascript object>"
            ],
            "application/javascript": [
              "download(\"download_c284550f-3fbb-4820-83d4-e0414c700c3d\", \"learningCurveASL.svg\", 31216)"
            ]
          },
          "metadata": {}
        },
        {
          "output_type": "display_data",
          "data": {
            "text/plain": [
              "<Figure size 432x288 with 1 Axes>"
            ],
            "image/png": "[encoded data removed]"
          },
          "metadata": {
            "needs_background": "light"
          }
        }
      ]
    },
    {
      "cell_type": "code",
      "source": [
        "train_loss_d_to_asl = [3.0756, 2.4962, 2.1551, 1.8978, 1.7103, 1.5356, 1.3976, 1.2758, 1.1708, 1.0950, 1.0074, 0.9471, 0.9061, 0.8337, 0.7520]\n",
        "val_loss_d_to_asl = [2.7105, 2.3526, 2.1303, 1.8864, 1.7262, 1.6175, 1.4928, 1.3974, 1.3164, 1.2509, 1.2244, 1.1428, 1.1056, 1.0365, 0.9809]"
      ],
      "metadata": {
        "id": "Od1foEBmtfof"
      },
      "id": "Od1foEBmtfof",
      "execution_count": null,
      "outputs": []
    },
    {
      "cell_type": "code",
      "source": [
        "fig = plt.figure()\n",
        "plt.plot(x, train_loss_d_to_asl, label = 'Training Loss')\n",
        "plt.plot(x, val_loss_d_to_asl, label = 'Validation Loss')\n",
        "plt.xlabel('Epochs')\n",
        "plt.ylabel('Loss')\n",
        "plt.title(\"Loss Curve\")\n",
        "plt.legend()\n",
        "plt.savefig('lossCurveDtoASL.svg')\n",
        "files.download('lossCurveDtoASL.svg')\n",
        "plt.show()"
      ],
      "metadata": {
        "colab": {
          "base_uri": "https://localhost:8080/",
          "height": 295
        },
        "id": "8kKl1ALAPfni",
        "outputId": "7422ed51-d731-4b31-dcb7-8d58d9d62655"
      },
      "id": "8kKl1ALAPfni",
      "execution_count": null,
      "outputs": [
        {
          "output_type": "display_data",
          "data": {
            "text/plain": [
              "<IPython.core.display.Javascript object>"
            ],
            "application/javascript": [
              "\n",
              "    async function download(id, filename, size) {\n",
              "      if (!google.colab.kernel.accessAllowed) {\n",
              "        return;\n",
              "      }\n",
              "      const div = document.createElement('div');\n",
              "      const label = document.createElement('label');\n",
              "      label.textContent = `Downloading \"${filename}\": `;\n",
              "      div.appendChild(label);\n",
              "      const progress = document.createElement('progress');\n",
              "      progress.max = size;\n",
              "      div.appendChild(progress);\n",
              "      document.body.appendChild(div);\n",
              "\n",
              "      const buffers = [];\n",
              "      let downloaded = 0;\n",
              "\n",
              "      const channel = await google.colab.kernel.comms.open(id);\n",
              "      // Send a message to notify the kernel that we're ready.\n",
              "      channel.send({})\n",
              "\n",
              "      for await (const message of channel.messages) {\n",
              "        // Send a message to notify the kernel that we're ready.\n",
              "        channel.send({})\n",
              "        if (message.buffers) {\n",
              "          for (const buffer of message.buffers) {\n",
              "            buffers.push(buffer);\n",
              "            downloaded += buffer.byteLength;\n",
              "            progress.value = downloaded;\n",
              "          }\n",
              "        }\n",
              "      }\n",
              "      const blob = new Blob(buffers, {type: 'application/binary'});\n",
              "      const a = document.createElement('a');\n",
              "      a.href = window.URL.createObjectURL(blob);\n",
              "      a.download = filename;\n",
              "      div.appendChild(a);\n",
              "      a.click();\n",
              "      div.remove();\n",
              "    }\n",
              "  "
            ]
          },
          "metadata": {}
        },
        {
          "output_type": "display_data",
          "data": {
            "text/plain": [
              "<IPython.core.display.Javascript object>"
            ],
            "application/javascript": [
              "download(\"download_bdcbdaae-917e-481c-a08f-63225478166c\", \"lossCurveDtoASL.svg\", 30550)"
            ]
          },
          "metadata": {}
        },
        {
          "output_type": "display_data",
          "data": {
            "text/plain": [
              "<Figure size 432x288 with 1 Axes>"
            ],
            "image/png": "[encoded data removed]"
          },
          "metadata": {
            "needs_background": "light"
          }
        }
      ]
    },
    {
      "cell_type": "code",
      "source": [],
      "metadata": {
        "id": "2bv46JSbQV-z"
      },
      "id": "2bv46JSbQV-z",
      "execution_count": null,
      "outputs": []
    }
  ],
  "metadata": {
    "kernelspec": {
      "display_name": "Python 3 (ipykernel)",
      "language": "python",
      "name": "python3"
    },
    "language_info": {
      "codemirror_mode": {
        "name": "ipython",
        "version": 3
      },
      "file_extension": ".py",
      "mimetype": "text/x-python",
      "name": "python",
      "nbconvert_exporter": "python",
      "pygments_lexer": "ipython3",
      "version": "3.9.12"
    },
    "colab": {
      "provenance": []
    }
  },
  "nbformat": 4,
  "nbformat_minor": 5
}